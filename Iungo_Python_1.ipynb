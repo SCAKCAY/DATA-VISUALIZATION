{
 "cells": [
  {
   "cell_type": "code",
   "execution_count": 25,
   "id": "8dc025e2-b701-4e52-8deb-0a27b0221124",
   "metadata": {},
   "outputs": [],
   "source": [
    "#Applications\n"
   ]
  },
  {
   "cell_type": "code",
   "execution_count": 64,
   "id": "abf87187-72f6-437b-94ba-537a9cf479bf",
   "metadata": {},
   "outputs": [],
   "source": [
    "a=5\n",
    "b=13\n",
    "area=a*b\n",
    "sum=a+b\n",
    "subt=b-a\n",
    "div=b/a\n",
    "div1=b//a\n"
   ]
  },
  {
   "cell_type": "code",
   "execution_count": 65,
   "id": "41979829-f189-43ce-83bd-e053015de2da",
   "metadata": {},
   "outputs": [
    {
     "name": "stdout",
     "output_type": "stream",
     "text": [
      "65\n"
     ]
    }
   ],
   "source": [
    "print(area)"
   ]
  },
  {
   "cell_type": "code",
   "execution_count": 66,
   "id": "d934fb74-30a1-4b70-abda-8dc2184a5357",
   "metadata": {},
   "outputs": [
    {
     "name": "stdout",
     "output_type": "stream",
     "text": [
      "18\n"
     ]
    }
   ],
   "source": [
    "print(sum)"
   ]
  },
  {
   "cell_type": "code",
   "execution_count": 67,
   "id": "d80ad230-fa53-4de2-bd01-5a8f935857fb",
   "metadata": {},
   "outputs": [
    {
     "name": "stdout",
     "output_type": "stream",
     "text": [
      "8\n"
     ]
    }
   ],
   "source": [
    "print (subt)"
   ]
  },
  {
   "cell_type": "code",
   "execution_count": 68,
   "id": "3df147fc-4b8e-4b05-a81f-296b12db3e43",
   "metadata": {},
   "outputs": [
    {
     "name": "stdout",
     "output_type": "stream",
     "text": [
      "2.6\n"
     ]
    }
   ],
   "source": [
    "print(div)"
   ]
  },
  {
   "cell_type": "code",
   "execution_count": 69,
   "id": "11e2c67c-f9e3-4574-b84d-977e9728dda1",
   "metadata": {},
   "outputs": [
    {
     "name": "stdout",
     "output_type": "stream",
     "text": [
      "2\n"
     ]
    }
   ],
   "source": [
    "print(div1)"
   ]
  },
  {
   "cell_type": "code",
   "execution_count": 70,
   "id": "baed46d7-9f0f-4d79-9602-66fe237e353f",
   "metadata": {},
   "outputs": [
    {
     "name": "stdout",
     "output_type": "stream",
     "text": [
      "3\n"
     ]
    }
   ],
   "source": [
    "c=b%a\n",
    "print(c)"
   ]
  },
  {
   "cell_type": "code",
   "execution_count": 72,
   "id": "49d79b9b-3653-47da-8aaf-584f3a6b0f94",
   "metadata": {},
   "outputs": [
    {
     "name": "stdout",
     "output_type": "stream",
     "text": [
      "25\n"
     ]
    }
   ],
   "source": [
    "d=a**2\n",
    "print(d)"
   ]
  },
  {
   "cell_type": "code",
   "execution_count": 73,
   "id": "81e7a85c-5e0b-446e-a1f1-2c3bc4e304d3",
   "metadata": {},
   "outputs": [
    {
     "name": "stdout",
     "output_type": "stream",
     "text": [
      "2197\n"
     ]
    }
   ],
   "source": [
    "base=b**3\n",
    "print(base)"
   ]
  },
  {
   "cell_type": "code",
   "execution_count": 74,
   "id": "840d9a4c-fde6-4394-9f5e-796216e5eb6a",
   "metadata": {},
   "outputs": [],
   "source": [
    "x=4\n",
    "y=8\n",
    "z=15"
   ]
  },
  {
   "cell_type": "code",
   "execution_count": 75,
   "id": "3ef7bcec-f035-42a7-8b4d-6077407a2467",
   "metadata": {},
   "outputs": [
    {
     "name": "stdout",
     "output_type": "stream",
     "text": [
      "27\n"
     ]
    }
   ],
   "source": [
    "sum=x+y+z\n",
    "print(sum)"
   ]
  },
  {
   "cell_type": "code",
   "execution_count": 77,
   "id": "2b1bddcd-554b-4b77-88ca-91da3feabcc7",
   "metadata": {},
   "outputs": [
    {
     "name": "stdout",
     "output_type": "stream",
     "text": [
      "480\n"
     ]
    }
   ],
   "source": [
    "mult=x*y*z\n",
    "print(mult)"
   ]
  },
  {
   "cell_type": "code",
   "execution_count": null,
   "id": "3e0b9d4b-136a-46fe-a252-f77d2fa70940",
   "metadata": {},
   "outputs": [],
   "source": [
    "#Convert the string \"3.14\" to a float and then to an integer.\n"
   ]
  },
  {
   "cell_type": "code",
   "execution_count": 78,
   "id": "99f88414-b5e1-4ac6-ac56-f1b0a277bd76",
   "metadata": {},
   "outputs": [],
   "source": [
    "string=3.14"
   ]
  },
  {
   "cell_type": "code",
   "execution_count": 80,
   "id": "afcd203e-5ba3-43aa-878c-ee012fffb075",
   "metadata": {},
   "outputs": [
    {
     "name": "stdout",
     "output_type": "stream",
     "text": [
      "3.14\n"
     ]
    }
   ],
   "source": [
    "float_value=float(string)\n",
    "print(float_value)"
   ]
  },
  {
   "cell_type": "code",
   "execution_count": 82,
   "id": "29816d4e-9c52-434f-8724-28def19e286d",
   "metadata": {},
   "outputs": [
    {
     "name": "stdout",
     "output_type": "stream",
     "text": [
      "3\n"
     ]
    }
   ],
   "source": [
    "integer_value=int(string)\n",
    "print(integer_value)"
   ]
  },
  {
   "cell_type": "code",
   "execution_count": 88,
   "id": "4d8297d5-0411-4ac4-831b-d7394f7f4b47",
   "metadata": {},
   "outputs": [
    {
     "name": "stdout",
     "output_type": "stream",
     "text": [
      "6\n"
     ]
    }
   ],
   "source": [
    "lenght_of_thestring = len('Python')\n",
    "print(lenght_of_thestring)\n",
    "\n"
   ]
  },
  {
   "cell_type": "code",
   "execution_count": 85,
   "id": "ed9206c6-31e8-4349-9bfe-01fcca5a6dbd",
   "metadata": {},
   "outputs": [
    {
     "name": "stdout",
     "output_type": "stream",
     "text": [
      "6\n"
     ]
    }
   ],
   "source": [
    "xxx = len('Python')\n",
    "print (xxx)"
   ]
  },
  {
   "cell_type": "code",
   "execution_count": 93,
   "id": "aa785a2a-5119-4bf3-a8d9-a0e1d627af42",
   "metadata": {},
   "outputs": [
    {
     "name": "stdout",
     "output_type": "stream",
     "text": [
      "P\n"
     ]
    }
   ],
   "source": [
    "word = \"Python\"\n",
    "print(word[-6])"
   ]
  },
  {
   "cell_type": "code",
   "execution_count": null,
   "id": "6cae42cb-2723-4f3f-9075-8f0f0176e8c5",
   "metadata": {},
   "outputs": [],
   "source": [
    "#Second Day \n"
   ]
  },
  {
   "cell_type": "code",
   "execution_count": null,
   "id": "e088073e-6278-4424-ad2f-69c29d5d904e",
   "metadata": {},
   "outputs": [],
   "source": [
    "#Temperature Converter\n",
    "#Prompt the user to enter a temperature in Celsius.\n",
    "#Use an if statement to check if the temperature is above or below freezing (0 degrees Celsius).\n",
    "#Print a message indicating whether the temperature is freezing or not."
   ]
  },
  {
   "cell_type": "code",
   "execution_count": 33,
   "id": "11c34297-f593-4115-a5ea-808324f1be74",
   "metadata": {},
   "outputs": [
    {
     "name": "stdin",
     "output_type": "stream",
     "text": [
      "What is the temprature? 1\n"
     ]
    }
   ],
   "source": [
    "temp= int(input(\"What is the temprature?\"))"
   ]
  },
  {
   "cell_type": "code",
   "execution_count": 34,
   "id": "12164b9c-04ec-43a4-b6e1-ab5b44f6d939",
   "metadata": {},
   "outputs": [
    {
     "name": "stdout",
     "output_type": "stream",
     "text": [
      "warm\n"
     ]
    }
   ],
   "source": [
    "if temp < 0:\n",
    "    print ('Freezing') \n",
    "elif temp == 0:\n",
    "    print ('cold') \n",
    "\n",
    "elif 1<=temp<=15:\n",
    "    print('warm')\n",
    "else:\n",
    "    print(\"hot\")"
   ]
  },
  {
   "cell_type": "code",
   "execution_count": null,
   "id": "4461b0a5-d357-43fe-9a05-380ce50197a7",
   "metadata": {},
   "outputs": [],
   "source": [
    "#Grade Calculator\n",
    "#Prompt the user to enter a numerical grade (between 0 and 100).Determine the letter grade based on the following criteria:\n",
    "#A: 90-100 B: 80-89 C: 70-79 D: 60-69 F: Below 60\n",
    "#Print the corresponding letter grade."
   ]
  },
  {
   "cell_type": "code",
   "execution_count": 55,
   "id": "64967300-10f1-45cf-ad4b-692029f1ae8d",
   "metadata": {},
   "outputs": [
    {
     "name": "stdin",
     "output_type": "stream",
     "text": [
      "Write Down your Grade 10.5\n"
     ]
    },
    {
     "name": "stdout",
     "output_type": "stream",
     "text": [
      "10.5\n",
      "Sorry, It is Fail\n"
     ]
    }
   ],
   "source": [
    "grade=float(input(\"Write Down your Grade\"))\n",
    "\n",
    "print(grade)\n",
    "if  90<=grade<=100:\n",
    "    print ('A Congratulations!!!')\n",
    "elif 80<=grade<=89:\n",
    "    print('B')\n",
    "elif 70<=grade<=79:\n",
    "    print('C')\n",
    "elif 60<=grade<=69:\n",
    "    print('D')\n",
    "elif 0<=grade<60: \n",
    "    print ('Sorry, It is Fail') \n",
    "else: \n",
    "    print ('Please put the correct grade') \n"
   ]
  },
  {
   "cell_type": "code",
   "execution_count": null,
   "id": "a2f55e4e-f713-4657-9708-cbd84a2e62f9",
   "metadata": {},
   "outputs": [],
   "source": [
    "#While Condition"
   ]
  },
  {
   "cell_type": "code",
   "execution_count": 76,
   "id": "8eb8c4f5-6d91-45b7-b416-6adf9559fcbc",
   "metadata": {},
   "outputs": [],
   "source": [
    "mylist=[]"
   ]
  },
  {
   "cell_type": "code",
   "execution_count": 86,
   "id": "207fcdda-f9b2-4a22-858d-8f909913ca97",
   "metadata": {},
   "outputs": [
    {
     "ename": "SyntaxError",
     "evalue": "invalid syntax (3820813768.py, line 4)",
     "output_type": "error",
     "traceback": [
      "\u001b[0;36m  Cell \u001b[0;32mIn[86], line 4\u001b[0;36m\u001b[0m\n\u001b[0;31m    if mylist[]==13:\u001b[0m\n\u001b[0m              ^\u001b[0m\n\u001b[0;31mSyntaxError\u001b[0m\u001b[0;31m:\u001b[0m invalid syntax\n"
     ]
    }
   ],
   "source": [
    "#Write a program that adds or appends elements to a list.\n",
    "count = 1\n",
    "while count <= 6:\n",
    "    if mylist[]==13:\n",
    "    x=input('please type the students name')\n",
    "    mylist.append(x)\n",
    "    print(x)\n",
    "    count=count+1\n",
    "\n",
    "print(mylist)"
   ]
  },
  {
   "cell_type": "code",
   "execution_count": 97,
   "id": "9cb661d8-fd03-4745-add6-46e3dea66ee8",
   "metadata": {
    "jp-MarkdownHeadingCollapsed": true
   },
   "outputs": [
    {
     "name": "stdin",
     "output_type": "stream",
     "text": [
      "Please give a number:  56\n",
      "Please give a number:  57\n",
      "Please give a number:  58\n",
      "Please give a number:  59\n",
      "Please give a number:  98\n"
     ]
    },
    {
     "name": "stdout",
     "output_type": "stream",
     "text": [
      "[56, 57, 58, 59, 98]\n"
     ]
    }
   ],
   "source": [
    "x_list = []\n",
    "\n",
    "count = 1\n",
    "while count <= 5:\n",
    "    number = int(input('Please give a number: '))\n",
    "    x_list.append(number)\n",
    "    count+=1\n",
    "print(x_list)\n"
   ]
  },
  {
   "cell_type": "code",
   "execution_count": 104,
   "id": "ae364eac-ca46-4853-a428-bd30a685c5ed",
   "metadata": {},
   "outputs": [
    {
     "name": "stdout",
     "output_type": "stream",
     "text": [
      "56\n",
      "58\n",
      "60\n",
      "62\n",
      "64\n",
      "66\n",
      "68\n",
      "70\n",
      "72\n",
      "74\n",
      "76\n",
      "78\n",
      "80\n",
      "82\n",
      "84\n",
      "86\n",
      "88\n",
      "90\n",
      "92\n",
      "94\n",
      "96\n"
     ]
    }
   ],
   "source": [
    "#For loop list:\n",
    "for x_list in range(56,98,2):\n",
    "    print(x_list)"
   ]
  },
  {
   "cell_type": "code",
   "execution_count": null,
   "id": "e6ff7aa5-8998-4f36-8002-e9201f45b701",
   "metadata": {},
   "outputs": [],
   "source": []
  }
 ],
 "metadata": {
  "kernelspec": {
   "display_name": "Python 3 (ipykernel)",
   "language": "python",
   "name": "python3"
  },
  "language_info": {
   "codemirror_mode": {
    "name": "ipython",
    "version": 3
   },
   "file_extension": ".py",
   "mimetype": "text/x-python",
   "name": "python",
   "nbconvert_exporter": "python",
   "pygments_lexer": "ipython3",
   "version": "3.11.3"
  }
 },
 "nbformat": 4,
 "nbformat_minor": 5
}
